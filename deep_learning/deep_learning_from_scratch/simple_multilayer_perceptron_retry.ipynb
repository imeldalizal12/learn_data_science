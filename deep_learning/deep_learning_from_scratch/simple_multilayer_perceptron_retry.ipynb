{
 "cells": [
  {
   "cell_type": "code",
   "execution_count": 1,
   "metadata": {},
   "outputs": [],
   "source": [
    "import numpy as np\n",
    "import matplotlib.pyplot as plt"
   ]
  },
  {
   "cell_type": "code",
   "execution_count": 2,
   "metadata": {},
   "outputs": [],
   "source": [
    "def sigmoid_func(z):\n",
    "    return 1./(1+np.exp(-z))"
   ]
  },
  {
   "cell_type": "code",
   "execution_count": 92,
   "metadata": {},
   "outputs": [],
   "source": [
    "X = np.array([[0,0,1], [0,1,1], [1,0,1], [1,1,1]])"
   ]
  },
  {
   "cell_type": "code",
   "execution_count": 93,
   "metadata": {},
   "outputs": [],
   "source": [
    "y = np.array([[0], [1], [1], [0]])"
   ]
  },
  {
   "cell_type": "code",
   "execution_count": 94,
   "metadata": {},
   "outputs": [],
   "source": [
    "k_0 = X.shape[1] ## num of features in X\n",
    "h_0 = 2 ## number of neurons in 1st hidden layer"
   ]
  },
  {
   "cell_type": "code",
   "execution_count": 13,
   "metadata": {},
   "outputs": [],
   "source": [
    "def forward_prop(X, W0, W1):\n",
    "    \n",
    "    Z_1 = np.dot(X, W0)\n",
    "    A_1 = sigmoid_func(Z_1)\n",
    "    \n",
    "    Z_2 = np.dot(A_1, W1)\n",
    "    A_2 = sigmoid_func(Z_2)\n",
    "    \n",
    "    return A_1, A_2"
   ]
  },
  {
   "cell_type": "code",
   "execution_count": 55,
   "metadata": {},
   "outputs": [],
   "source": [
    "def back_prop(A_1, A_2, W_1):\n",
    "    \n",
    "    ### Calculate error\n",
    "    e = y - A_2\n",
    "    C = 0.5*np.dot(e.T,e)\n",
    "    \n",
    "    ### Calculate update for W_1\n",
    "    delta_2 = -e*A_2*(1-A_2)\n",
    "    dCdW_1  = np.dot(A_1.T, delta_2)\n",
    "    \n",
    "    ### Calculate update for W_0\n",
    "    delta_1 = np.dot(delta_2, W_1.T)*A_1*(1-A_1)\n",
    "    dCdW_0  = np.dot(X.T, delta_1)\n",
    "    \n",
    "    return dCdW_1, dCdW_0, e"
   ]
  },
  {
   "cell_type": "code",
   "execution_count": 102,
   "metadata": {},
   "outputs": [],
   "source": [
    "def update_weights(W, update, alpha=0.5):\n",
    "    return W - alpha*update"
   ]
  },
  {
   "cell_type": "code",
   "execution_count": 104,
   "metadata": {},
   "outputs": [],
   "source": [
    "### Initialize weights\n",
    "W_0 = 2*np.random.random((k_0,h_0)) - 1\n",
    "W_1 = 2*np.random.random((h_0,1)) - 1"
   ]
  },
  {
   "cell_type": "code",
   "execution_count": 105,
   "metadata": {},
   "outputs": [
    {
     "name": "stdout",
     "output_type": "stream",
     "text": [
      "Error after 0 iterations:0.4997542172126823\n",
      "Error after 10000 iterations:0.14027837356103454\n",
      "Error after 20000 iterations:0.13502957842395494\n",
      "Error after 30000 iterations:0.13296076323317205\n",
      "Error after 40000 iterations:0.13181754481670852\n",
      "Error after 50000 iterations:0.13116671415311745\n",
      "Error after 60000 iterations:0.13260200637592623\n",
      "Error after 70000 iterations:0.04081204294603202\n",
      "Error after 80000 iterations:0.02756566204908324\n",
      "Error after 90000 iterations:0.022099660554469616\n"
     ]
    }
   ],
   "source": [
    "n_iter= 100000\n",
    "\n",
    "for i in range(0,n_iter):\n",
    "    A_1, A_2 = forward_prop(X, W_0, W_1)\n",
    "    dCdW_1, dCdW_0, e = back_prop(A_1, A_2, W_1)\n",
    "    if (i% 10000) == 0:\n",
    "        print(\"Error after \"+str(i)+\" iterations:\" + str(np.mean(np.abs(e))))\n",
    "    W_1 = update_weights(W_1, dCdW_1)\n",
    "    W_0 = update_weights(W_0, dCdW_0)"
   ]
  },
  {
   "cell_type": "code",
   "execution_count": null,
   "metadata": {},
   "outputs": [],
   "source": []
  }
 ],
 "metadata": {
  "kernelspec": {
   "display_name": "deep_learning_env",
   "language": "python",
   "name": "deep_learning_env"
  },
  "language_info": {
   "codemirror_mode": {
    "name": "ipython",
    "version": 3
   },
   "file_extension": ".py",
   "mimetype": "text/x-python",
   "name": "python",
   "nbconvert_exporter": "python",
   "pygments_lexer": "ipython3",
   "version": "3.6.5"
  }
 },
 "nbformat": 4,
 "nbformat_minor": 4
}
