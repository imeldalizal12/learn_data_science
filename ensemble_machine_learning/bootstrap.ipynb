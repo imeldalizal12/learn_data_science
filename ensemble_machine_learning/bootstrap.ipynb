{
 "cells": [
  {
   "cell_type": "code",
   "execution_count": 69,
   "metadata": {},
   "outputs": [],
   "source": [
    "import numpy as np\n",
    "import matplotlib.pyplot as plt\n",
    "from scipy.stats import norm"
   ]
  },
  {
   "cell_type": "code",
   "execution_count": 70,
   "metadata": {},
   "outputs": [
    {
     "data": {
      "text/plain": [
       "array([-0.41675785, -0.05626683, -2.1361961 ,  1.64027081, -1.79343559,\n",
       "       -0.84174737,  0.50288142, -1.24528809, -1.05795222, -0.90900761,\n",
       "        0.55145404,  2.29220801,  0.04153939, -1.11792545,  0.53905832,\n",
       "       -0.5961597 , -0.0191305 ,  1.17500122, -0.74787095,  0.00902525])"
      ]
     },
     "execution_count": 70,
     "metadata": {},
     "output_type": "execute_result"
    }
   ],
   "source": [
    "B = 200\n",
    "N = 20\n",
    "np.random.seed(2)\n",
    "X = np.random.randn(N)\n",
    "X"
   ]
  },
  {
   "cell_type": "code",
   "execution_count": 71,
   "metadata": {},
   "outputs": [
    {
     "name": "stdout",
     "output_type": "stream",
     "text": [
      "Sample mean of X : -0.20931498826527592\n",
      "Std of X : 1.0868472302080328\n"
     ]
    }
   ],
   "source": [
    "print (\"Sample mean of X : \" + str(X.mean()))\n",
    "print(\"Std of X : \" + str(X.std()))"
   ]
  },
  {
   "cell_type": "code",
   "execution_count": 72,
   "metadata": {},
   "outputs": [],
   "source": [
    "individual_estimates = np.empty(B)"
   ]
  },
  {
   "cell_type": "code",
   "execution_count": 73,
   "metadata": {},
   "outputs": [],
   "source": [
    "for b in range(0,B):\n",
    "    samples = np.random.choice(X, size = N)\n",
    "    \n",
    "    individual_estimates[b] = samples.mean()"
   ]
  },
  {
   "cell_type": "code",
   "execution_count": 74,
   "metadata": {},
   "outputs": [
    {
     "name": "stdout",
     "output_type": "stream",
     "text": [
      "-0.1885420790625253 0.24376409973393262 -0.6814049528896208 0.2770019528492331\n"
     ]
    }
   ],
   "source": [
    "b_estimate = individual_estimates.mean()\n",
    "b_std = individual_estimates.std()\n",
    "b_lower_bound = b_estimate + norm.ppf(0.025)*b_std/np.sqrt(B)\n",
    "b_upper_bound = b_estimate + norm.ppf(0.975)*b_std/np.sqrt(B)\n",
    "\n",
    "print(b_estimate, b_std, lower_bound, upper_bound)"
   ]
  },
  {
   "cell_type": "code",
   "execution_count": 75,
   "metadata": {},
   "outputs": [
    {
     "data": {
      "image/png": "[encoded data removed]",
      "text/plain": [
       "<Figure size 432x288 with 1 Axes>"
      ]
     },
     "metadata": {},
     "output_type": "display_data"
    }
   ],
   "source": [
    "plt.hist(individual_estimates, bins = 20)\n",
    "plt.axvline(X.mean(), color = \"red\", label = 'sample mean')\n",
    "plt.axvline(X.mean() + norm.ppf(0.025)*X.std()/np.sqrt(N), color = \"lightgreen\", label = \"sample lower bound CI 95%\")\n",
    "plt.axvline(X.mean() + norm.ppf(0.975)*X.std()/np.sqrt(N), color = \"lightgreen\", label = \"sample upper bound CI 95%\")\n",
    "\n",
    "\n",
    "plt.axvline(b_estimate, color = \"purple\", label = \"bootstrap estimate mean\")\n",
    "plt.axvline(lower_bound, color = \"lightgrey\", label = \"bootstrap lower bound CI 95%\")\n",
    "plt.axvline(upper_bound, color = \"lightgrey\", label = \"bootstrap upper bound CI 95%\")\n",
    "plt.legend()\n",
    "plt.show()"
   ]
  },
  {
   "cell_type": "code",
   "execution_count": null,
   "metadata": {},
   "outputs": [],
   "source": []
  }
 ],
 "metadata": {
  "kernelspec": {
   "display_name": "Python 3 (ipykernel)",
   "language": "python",
   "name": "python3"
  },
  "language_info": {
   "codemirror_mode": {
    "name": "ipython",
    "version": 3
   },
   "file_extension": ".py",
   "mimetype": "text/x-python",
   "name": "python",
   "nbconvert_exporter": "python",
   "pygments_lexer": "ipython3",
   "version": "3.8.4"
  }
 },
 "nbformat": 4,
 "nbformat_minor": 4
}
