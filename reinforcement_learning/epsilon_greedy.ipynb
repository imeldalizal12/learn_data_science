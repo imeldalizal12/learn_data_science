{
 "cells": [
  {
   "cell_type": "code",
   "execution_count": 21,
   "metadata": {},
   "outputs": [],
   "source": [
    "import numpy as np\n",
    "import pandas as pd\n",
    "import random\n",
    "import matplotlib.pyplot as plt\n",
    "import seaborn as sns"
   ]
  },
  {
   "cell_type": "code",
   "execution_count": 22,
   "metadata": {},
   "outputs": [],
   "source": [
    "class Bandit:\n",
    "    def __init__(self, m):\n",
    "        self.mean = 0\n",
    "        self.m = m\n",
    "        self.N = 0\n",
    "        \n",
    "    def pull(self):\n",
    "        return self.m + np.random.randn()\n",
    "    \n",
    "    def update_mean(self, X_N):\n",
    "        self.N += 1\n",
    "        self.mean = (1 - 1./self.N)*self.mean + 1./self.N*X_N\n",
    "        \n",
    "        "
   ]
  },
  {
   "cell_type": "markdown",
   "metadata": {},
   "source": [
    "###Pseudo code for eps greedy###\n",
    "\n",
    "#pulling random uniform number\n",
    "p = random uniform\n",
    "#define epsilon\n",
    "eps = 0.05\n",
    "\n",
    "m1 = 1\n",
    "B1 = Bandit(m1)\n",
    "\n",
    "m2 = 3\n",
    "B2 = Bandit(m2)\n",
    "\n",
    "m3 = 5\n",
    "B3 = Bandit(m3)\n",
    "\n",
    "list_of_bandits = [B1, B2, B3]\n",
    "max_mean = np.max([bandit.mean for bandit in list_of_bandits])\n",
    "best_bandit = [bandit for bandit in list_of_bandits if bandit.mean == max_mean]\n",
    "\n",
    "if p < eps :\n",
    "    #select random bandit\n",
    "    selected_bandit = random.choice(list_of_bandits)\n",
    "else:\n",
    "    #select current best bandit\n",
    "    selected_bandit = best_bandit[-1]\n",
    "    \n",
    "#pull randomly selected bandit\n",
    "pull_value = selected_bandit.pull()\n",
    "\n",
    "#update bandit mean\n",
    "selected_bandit.update(pull_value)\n",
    "\n",
    "if selected_bandit.mean > max_mean:\n",
    "     max_mean = selected_bandit.mean\n",
    "     best_bandit.append(selected_bandit)\n",
    "    \n",
    "    \n",
    "    \n",
    "    \n"
   ]
  },
  {
   "cell_type": "code",
   "execution_count": 23,
   "metadata": {},
   "outputs": [],
   "source": [
    "m1 = 1\n",
    "# Bandit1 = Bandit(m1)\n",
    "\n",
    "m2 = 2\n",
    "# Bandit2 = Bandit(m2)\n",
    "\n",
    "m3 = 3\n",
    "# Bandit3 = Bandit(m3)"
   ]
  },
  {
   "cell_type": "code",
   "execution_count": 25,
   "metadata": {},
   "outputs": [],
   "source": [
    "#define epsilon\n",
    "eps = 0.1\n",
    "\n",
    "#define number of trials\n",
    "N = 100000\n",
    "\n",
    "#define list of m\n",
    "list_of_m = [m1, m2, m3]\n",
    "# list_of_bandits = [Bandit(m) for m in list_of_m]\n",
    "\n",
    "# #define list of bandits\n",
    "# list_of_bandits = [Bandit1, Bandit2, Bandit3]"
   ]
  },
  {
   "cell_type": "code",
   "execution_count": 34,
   "metadata": {},
   "outputs": [],
   "source": [
    "def run_experiment(list_of_m, eps, N):\n",
    "    \n",
    "    list_of_bandits = [Bandit(m) for m in list_of_m]\n",
    "    type(list_of_bandits[0].m)\n",
    "    \n",
    "#     max_mean = np.max([bandit.mean for bandit in list_of_bandits])\n",
    "#     max_mean_arg = np.argmax([bandit.mean for bandit in list_of_bandits])\n",
    "#     best_bandit = [list_of_bandits[max_mean_arg]]\n",
    "    list_of_selected_bandits = []\n",
    "    pulled_data = np.empty(N)\n",
    "    \n",
    "    for i in range(0, N):\n",
    "\n",
    "        #pulling random uniform number\n",
    "        p = np.random.random()\n",
    "\n",
    "        if p < eps:\n",
    "            #select random bandit\n",
    "            selected_bandit = np.random.choice(list_of_bandits)\n",
    "        else:\n",
    "            #select current best bandit\n",
    "            best_bandit_arg = np.argmax([bandit.mean for bandit in list_of_bandits])\n",
    "            selected_bandit = list_of_bandits[best_bandit_arg]\n",
    "\n",
    "        #pull randomly selected bandit\n",
    "        pulled_value = selected_bandit.pull()\n",
    "\n",
    "        #update bandit mean\n",
    "        selected_bandit.update_mean(pulled_value)\n",
    "        \n",
    "        #store pulled data\n",
    "        pulled_data[i] = pulled_value\n",
    "        \n",
    "        #update list of selected bandits\n",
    "        list_of_selected_bandits.append(selected_bandit)\n",
    "\n",
    "#         if selected_bandit.mean > max_mean:\n",
    "#              max_mean = selected_bandit.mean\n",
    "#              best_bandit.append(selected_bandit)\n",
    "\n",
    "        \n",
    "    cumulative_average = np.cumsum(pulled_data) / (np.arange(N) + 1)\n",
    "    \n",
    "    return list_of_selected_bandits, cumulative_average\n"
   ]
  },
  {
   "cell_type": "code",
   "execution_count": 35,
   "metadata": {},
   "outputs": [],
   "source": [
    "list_of_selected_bandits, cumulative_average = run_experiment(list_of_m, eps, N)"
   ]
  },
  {
   "cell_type": "code",
   "execution_count": 58,
   "metadata": {},
   "outputs": [
    {
     "data": {
      "text/plain": [
       "<matplotlib.collections.PathCollection at 0x1a13f35f28>"
      ]
     },
     "execution_count": 58,
     "metadata": {},
     "output_type": "execute_result"
    },
    {
     "data": {
      "image/png": "[encoded data removed]",
      "text/plain": [
       "<Figure size 432x288 with 1 Axes>"
      ]
     },
     "metadata": {},
     "output_type": "display_data"
    }
   ],
   "source": [
    "plt.scatter(np.arange(N) + 1, [\"Bandit \" + str(bandit.m) for bandit in list_of_selected_bandits], s = 5)"
   ]
  },
  {
   "cell_type": "code",
   "execution_count": 36,
   "metadata": {},
   "outputs": [
    {
     "data": {
      "text/plain": [
       "[<matplotlib.lines.Line2D at 0x111481be0>]"
      ]
     },
     "execution_count": 36,
     "metadata": {},
     "output_type": "execute_result"
    },
    {
     "data": {
      "image/png": "[encoded data removed]",
      "text/plain": [
       "<Figure size 432x288 with 1 Axes>"
      ]
     },
     "metadata": {},
     "output_type": "display_data"
    }
   ],
   "source": [
    "plt.plot(cumulative_average)"
   ]
  },
  {
   "cell_type": "code",
   "execution_count": 37,
   "metadata": {},
   "outputs": [],
   "source": [
    "#COMPARING EPSILONS\n",
    "eps_1 = 0.1\n",
    "eps_2 = 0.05\n",
    "eps_3 = 0.01"
   ]
  },
  {
   "cell_type": "code",
   "execution_count": 38,
   "metadata": {},
   "outputs": [],
   "source": [
    "list_of_selected_bandits_1, cumulative_average_1 = run_experiment(list_of_m, eps_1, N)\n",
    "list_of_selected_bandits_2, cumulative_average_2 = run_experiment(list_of_m, eps_2, N)\n",
    "list_of_selected_bandits_3, cumulative_average_3 = run_experiment(list_of_m, eps_3, N)"
   ]
  },
  {
   "cell_type": "code",
   "execution_count": 39,
   "metadata": {},
   "outputs": [
    {
     "data": {
      "text/plain": [
       "<matplotlib.legend.Legend at 0x109d58898>"
      ]
     },
     "execution_count": 39,
     "metadata": {},
     "output_type": "execute_result"
    },
    {
     "data": {
      "image/png": "[encoded data removed]",
      "text/plain": [
       "<Figure size 432x288 with 1 Axes>"
      ]
     },
     "metadata": {},
     "output_type": "display_data"
    }
   ],
   "source": [
    "plt.plot(cumulative_average_1, label = \"eps1\")\n",
    "plt.plot(cumulative_average_2, label = \"eps2\")\n",
    "plt.plot(cumulative_average_3, label = \"eps3\")\n",
    "plt.legend()"
   ]
  },
  {
   "cell_type": "code",
   "execution_count": 99,
   "metadata": {},
   "outputs": [
    {
     "data": {
      "text/plain": [
       "<matplotlib.legend.Legend at 0x1a1458b358>"
      ]
     },
     "execution_count": 99,
     "metadata": {},
     "output_type": "execute_result"
    },
    {
     "data": {
      "image/png": "[encoded data removed]",
      "text/plain": [
       "<Figure size 432x288 with 1 Axes>"
      ]
     },
     "metadata": {},
     "output_type": "display_data"
    }
   ],
   "source": [
    "plt.scatter(np.arange(N) + 1, [\"Bandit \" + str(bandit.m) for bandit in list_of_selected_bandits_1], s = 5, label = \"eps1\")\n",
    "plt.legend()"
   ]
  },
  {
   "cell_type": "code",
   "execution_count": 88,
   "metadata": {},
   "outputs": [
    {
     "data": {
      "text/plain": [
       "<matplotlib.legend.Legend at 0x1a13ac5cc0>"
      ]
     },
     "execution_count": 88,
     "metadata": {},
     "output_type": "execute_result"
    },
    {
     "data": {
      "image/png": "[encoded data removed]",
      "text/plain": [
       "<Figure size 432x288 with 1 Axes>"
      ]
     },
     "metadata": {},
     "output_type": "display_data"
    }
   ],
   "source": [
    "plt.scatter(np.arange(N) + 1, [\"Bandit \" + str(bandit.m) for bandit in list_of_selected_bandits_2], s = 5, label = \"eps2\")\n",
    "plt.legend()"
   ]
  },
  {
   "cell_type": "code",
   "execution_count": 89,
   "metadata": {},
   "outputs": [
    {
     "data": {
      "text/plain": [
       "<matplotlib.legend.Legend at 0x1a139821d0>"
      ]
     },
     "execution_count": 89,
     "metadata": {},
     "output_type": "execute_result"
    },
    {
     "data": {
      "image/png": "[encoded data removed]",
      "text/plain": [
       "<Figure size 432x288 with 1 Axes>"
      ]
     },
     "metadata": {},
     "output_type": "display_data"
    }
   ],
   "source": [
    "plt.scatter(np.arange(N) + 1, [\"Bandit \" + str(bandit.m) for bandit in list_of_selected_bandits_3], s = 5, label = \"eps3\")\n",
    "plt.legend()"
   ]
  },
  {
   "cell_type": "code",
   "execution_count": null,
   "metadata": {},
   "outputs": [],
   "source": []
  }
 ],
 "metadata": {
  "kernelspec": {
   "display_name": "Python 3 (ipykernel)",
   "language": "python",
   "name": "python3"
  },
  "language_info": {
   "codemirror_mode": {
    "name": "ipython",
    "version": 3
   },
   "file_extension": ".py",
   "mimetype": "text/x-python",
   "name": "python",
   "nbconvert_exporter": "python",
   "pygments_lexer": "ipython3",
   "version": "3.8.4"
  }
 },
 "nbformat": 4,
 "nbformat_minor": 4
}
