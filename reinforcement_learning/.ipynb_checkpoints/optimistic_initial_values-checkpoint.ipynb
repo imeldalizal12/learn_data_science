{
 "cells": [
  {
   "cell_type": "code",
   "execution_count": 41,
   "metadata": {},
   "outputs": [],
   "source": [
    "import numpy as np\n",
    "import pandas as pd\n",
    "import random\n",
    "import matplotlib.pyplot as plt\n",
    "import seaborn as sns"
   ]
  },
  {
   "cell_type": "code",
   "execution_count": 2,
   "metadata": {},
   "outputs": [],
   "source": [
    "class Bandit:\n",
    "    def __init__(self, m):\n",
    "        self.mean = 0\n",
    "        self.m = m\n",
    "        self.N = 0\n",
    "        \n",
    "    def pull(self):\n",
    "        return self.m + np.random.randn()\n",
    "    \n",
    "    def update_mean(self, X_N):\n",
    "        self.N += 1\n",
    "        self.mean = (1 - 1./self.N)*self.mean + 1./self.N*X_N\n",
    "        \n",
    "        "
   ]
  },
  {
   "cell_type": "code",
   "execution_count": 3,
   "metadata": {},
   "outputs": [
    {
     "data": {
      "text/plain": [
       "0"
      ]
     },
     "execution_count": 3,
     "metadata": {},
     "output_type": "execute_result"
    }
   ],
   "source": [
    "m1 = 10\n",
    "Bandit_1 = Bandit(m1)\n",
    "Bandit_1.mean"
   ]
  },
  {
   "cell_type": "code",
   "execution_count": 4,
   "metadata": {},
   "outputs": [],
   "source": [
    "Bandit_1.update_mean(Bandit_1.pull())"
   ]
  },
  {
   "cell_type": "code",
   "execution_count": 5,
   "metadata": {},
   "outputs": [
    {
     "data": {
      "text/plain": [
       "10.986736696696463"
      ]
     },
     "execution_count": 5,
     "metadata": {},
     "output_type": "execute_result"
    }
   ],
   "source": [
    "Bandit_1.mean"
   ]
  },
  {
   "cell_type": "markdown",
   "metadata": {},
   "source": [
    "###Pseudo code for bandit###\n",
    "\n",
    "#pulling random uniform number\n",
    "p = random uniform\n",
    "#define epsilon\n",
    "eps = 0.05\n",
    "\n",
    "m1 = 1\n",
    "B1 = Bandit(m1)\n",
    "\n",
    "m2 = 3\n",
    "B2 = Bandit(m2)\n",
    "\n",
    "m3 = 5\n",
    "B3 = Bandit(m3)\n",
    "\n",
    "list_of_bandits = [B1, B2, B3]\n",
    "max_mean = np.max([bandit.mean for bandit in list_of_bandits])\n",
    "best_bandit = [bandit for bandit in list_of_bandits if bandit.mean == max_mean]\n",
    "\n",
    "if p < eps :\n",
    "    #select random bandit\n",
    "    selected_bandit = random.choice(list_of_bandits)\n",
    "else:\n",
    "    #select current best bandit\n",
    "    selected_bandit = best_bandit[-1]\n",
    "    \n",
    "#pull randomly selected bandit\n",
    "pull_value = selected_bandit.pull()\n",
    "\n",
    "#update bandit mean\n",
    "selected_bandit.update(pull_value)\n",
    "\n",
    "if selected_bandit.mean > max_mean:\n",
    "     max_mean = selected_bandit.mean\n",
    "     best_bandit.append(selected_bandit)\n",
    "    \n",
    "    \n",
    "    \n",
    "    \n"
   ]
  },
  {
   "cell_type": "code",
   "execution_count": 100,
   "metadata": {},
   "outputs": [],
   "source": [
    "m1 = 1\n",
    "Bandit1 = Bandit(m1)\n",
    "\n",
    "m2 = 2\n",
    "Bandit2 = Bandit(m2)\n",
    "\n",
    "m3 = 3\n",
    "Bandit3 = Bandit(m3)"
   ]
  },
  {
   "cell_type": "code",
   "execution_count": 101,
   "metadata": {},
   "outputs": [],
   "source": [
    "#define epsilon\n",
    "eps = 0.1\n",
    "\n",
    "#define number of trials\n",
    "N = 100000\n",
    "\n",
    "#define list of bandits\n",
    "list_of_bandits = [Bandit1, Bandit2, Bandit3]"
   ]
  },
  {
   "cell_type": "code",
   "execution_count": 102,
   "metadata": {},
   "outputs": [],
   "source": [
    "def run_experiment(list_of_bandits, eps, N):\n",
    "    \n",
    "    max_mean = np.max([bandit.mean for bandit in list_of_bandits])\n",
    "    best_bandit = [np.random.choice(list_of_bandits)]\n",
    "    list_of_selected_bandits = []\n",
    "    pulled_data = np.empty(N)\n",
    "    \n",
    "    for i in range(0, N):\n",
    "\n",
    "        #pulling random uniform number\n",
    "        p = np.random.random()\n",
    "\n",
    "        if p < eps:\n",
    "            #select random bandit\n",
    "            selected_bandit = np.random.choice(list_of_bandits)\n",
    "        else:\n",
    "            #select current best bandit\n",
    "            selected_bandit = best_bandit[-1]\n",
    "\n",
    "        #pull randomly selected bandit\n",
    "        pulled_value = selected_bandit.pull()\n",
    "\n",
    "        #update bandit mean\n",
    "        selected_bandit.update_mean(pulled_value)\n",
    "        \n",
    "        #store pulled data\n",
    "        pulled_data[i] = pulled_value\n",
    "        \n",
    "        #update list of selected bandits\n",
    "        list_of_selected_bandits.append(selected_bandit)\n",
    "\n",
    "        if selected_bandit.mean > max_mean:\n",
    "             max_mean = selected_bandit.mean\n",
    "             best_bandit.append(selected_bandit)\n",
    "\n",
    "        \n",
    "    cumulative_average = np.cumsum(pulled_data) / (np.arange(N) + 1)\n",
    "    \n",
    "    return list_of_selected_bandits, best_bandit, cumulative_average\n"
   ]
  },
  {
   "cell_type": "code",
   "execution_count": 70,
   "metadata": {},
   "outputs": [],
   "source": [
    "list_of_selected_bandits, best_bandit, cumulative_average = run_experiment(list_of_bandits, eps, N)"
   ]
  },
  {
   "cell_type": "code",
   "execution_count": 58,
   "metadata": {},
   "outputs": [
    {
     "data": {
      "text/plain": [
       "<matplotlib.collections.PathCollection at 0x1a13f35f28>"
      ]
     },
     "execution_count": 58,
     "metadata": {},
     "output_type": "execute_result"
    },
    {
     "data": {
      "image/png": "[encoded data removed]",
      "text/plain": [
       "<Figure size 432x288 with 1 Axes>"
      ]
     },
     "metadata": {},
     "output_type": "display_data"
    }
   ],
   "source": [
    "plt.scatter(np.arange(N) + 1, [\"Bandit \" + str(bandit.m) for bandit in list_of_selected_bandits], s = 5)"
   ]
  },
  {
   "cell_type": "code",
   "execution_count": 59,
   "metadata": {},
   "outputs": [
    {
     "data": {
      "text/plain": [
       "[<matplotlib.lines.Line2D at 0x1a1404e390>]"
      ]
     },
     "execution_count": 59,
     "metadata": {},
     "output_type": "execute_result"
    },
    {
     "data": {
      "image/png": "[encoded data removed]",
      "text/plain": [
       "<Figure size 432x288 with 1 Axes>"
      ]
     },
     "metadata": {},
     "output_type": "display_data"
    }
   ],
   "source": [
    "plt.plot(cumulative_average)"
   ]
  },
  {
   "cell_type": "code",
   "execution_count": 103,
   "metadata": {},
   "outputs": [],
   "source": [
    "#COMPARING EPSILONS\n",
    "eps_1 = 0.1\n",
    "eps_2 = 0.05\n",
    "eps_3 = 0.01"
   ]
  },
  {
   "cell_type": "code",
   "execution_count": 104,
   "metadata": {},
   "outputs": [],
   "source": [
    "list_of_selected_bandits_1, best_bandit_1, cumulative_average_1 = run_experiment(list_of_bandits, eps_1, N)\n",
    "list_of_selected_bandits_2, best_bandit_2, cumulative_average_2 = run_experiment(list_of_bandits, eps_2, N)\n",
    "list_of_selected_bandits_3, best_bandit_3, cumulative_average_3 = run_experiment(list_of_bandits, eps_3, N)"
   ]
  },
  {
   "cell_type": "code",
   "execution_count": 105,
   "metadata": {},
   "outputs": [
    {
     "data": {
      "text/plain": [
       "<matplotlib.legend.Legend at 0x10d6aeac8>"
      ]
     },
     "execution_count": 105,
     "metadata": {},
     "output_type": "execute_result"
    },
    {
     "data": {
      "image/png": "[encoded data removed]",
      "text/plain": [
       "<Figure size 432x288 with 1 Axes>"
      ]
     },
     "metadata": {},
     "output_type": "display_data"
    }
   ],
   "source": [
    "plt.plot(cumulative_average_1, label = \"eps1\")\n",
    "plt.plot(cumulative_average_2, label = \"eps2\")\n",
    "plt.plot(cumulative_average_3, label = \"eps3\")\n",
    "plt.legend()"
   ]
  },
  {
   "cell_type": "code",
   "execution_count": 99,
   "metadata": {},
   "outputs": [
    {
     "data": {
      "text/plain": [
       "<matplotlib.legend.Legend at 0x1a1458b358>"
      ]
     },
     "execution_count": 99,
     "metadata": {},
     "output_type": "execute_result"
    },
    {
     "data": {
      "image/png": "[encoded data removed]",
      "text/plain": [
       "<Figure size 432x288 with 1 Axes>"
      ]
     },
     "metadata": {},
     "output_type": "display_data"
    }
   ],
   "source": [
    "plt.scatter(np.arange(N) + 1, [\"Bandit \" + str(bandit.m) for bandit in list_of_selected_bandits_1], s = 5, label = \"eps1\")\n",
    "plt.legend()"
   ]
  },
  {
   "cell_type": "code",
   "execution_count": 88,
   "metadata": {},
   "outputs": [
    {
     "data": {
      "text/plain": [
       "<matplotlib.legend.Legend at 0x1a13ac5cc0>"
      ]
     },
     "execution_count": 88,
     "metadata": {},
     "output_type": "execute_result"
    },
    {
     "data": {
      "image/png": "[encoded data removed]",
      "text/plain": [
       "<Figure size 432x288 with 1 Axes>"
      ]
     },
     "metadata": {},
     "output_type": "display_data"
    }
   ],
   "source": [
    "plt.scatter(np.arange(N) + 1, [\"Bandit \" + str(bandit.m) for bandit in list_of_selected_bandits_2], s = 5, label = \"eps2\")\n",
    "plt.legend()"
   ]
  },
  {
   "cell_type": "code",
   "execution_count": 89,
   "metadata": {},
   "outputs": [
    {
     "data": {
      "text/plain": [
       "<matplotlib.legend.Legend at 0x1a139821d0>"
      ]
     },
     "execution_count": 89,
     "metadata": {},
     "output_type": "execute_result"
    },
    {
     "data": {
      "image/png": "[encoded data removed]",
      "text/plain": [
       "<Figure size 432x288 with 1 Axes>"
      ]
     },
     "metadata": {},
     "output_type": "display_data"
    }
   ],
   "source": [
    "plt.scatter(np.arange(N) + 1, [\"Bandit \" + str(bandit.m) for bandit in list_of_selected_bandits_3], s = 5, label = \"eps3\")\n",
    "plt.legend()"
   ]
  },
  {
   "cell_type": "code",
   "execution_count": null,
   "metadata": {},
   "outputs": [],
   "source": []
  }
 ],
 "metadata": {
  "kernelspec": {
   "display_name": "Python 3",
   "language": "python",
   "name": "python3"
  },
  "language_info": {
   "codemirror_mode": {
    "name": "ipython",
    "version": 3
   },
   "file_extension": ".py",
   "mimetype": "text/x-python",
   "name": "python",
   "nbconvert_exporter": "python",
   "pygments_lexer": "ipython3",
   "version": "3.6.5"
  }
 },
 "nbformat": 4,
 "nbformat_minor": 2
}
