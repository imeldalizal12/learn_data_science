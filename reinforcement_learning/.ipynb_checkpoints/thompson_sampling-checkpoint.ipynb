{
 "cells": [
  {
   "cell_type": "code",
   "execution_count": 11,
   "metadata": {},
   "outputs": [],
   "source": [
    "import numpy as np\n",
    "import pandas as pd\n",
    "import random\n",
    "import matplotlib.pyplot as plt\n",
    "import seaborn as sns\n",
    "import math"
   ]
  },
  {
   "cell_type": "code",
   "execution_count": 12,
   "metadata": {},
   "outputs": [],
   "source": [
    "class Bandit:\n",
    "    def __init__(self, m, upper_limit=0):\n",
    "        self.mean = upper_limit\n",
    "        self.m = m\n",
    "        self.N = 0\n",
    "        \n",
    "    def pull(self):\n",
    "        return self.m + np.random.randn()\n",
    "    \n",
    "    def update_mean(self, X_N):\n",
    "        self.N += 1\n",
    "        self.mean = (1 - 1./self.N)*self.mean + 1./self.N*X_N"
   ]
  },
  {
   "cell_type": "code",
   "execution_count": 22,
   "metadata": {},
   "outputs": [],
   "source": [
    "m1 = 1\n",
    "m2 = 2\n",
    "m3 = 3"
   ]
  },
  {
   "cell_type": "code",
   "execution_count": 23,
   "metadata": {},
   "outputs": [],
   "source": [
    "#define number of trials\n",
    "N = 1000\n",
    "\n",
    "#define upper_limit\n",
    "upper_limit = 10\n",
    "\n",
    "#define eps\n",
    "eps = 0.1\n",
    "\n",
    "#define list of m\n",
    "list_of_m = [m1, m2, m3]"
   ]
  },
  {
   "cell_type": "code",
   "execution_count": 24,
   "metadata": {},
   "outputs": [],
   "source": [
    "def ucb(mean, N, N_j):\n",
    "    if N_j == 0:\n",
    "        N_j = N_j + 1e-3\n",
    "    return mean + np.sqrt(2 * np.log(N) / N_j)"
   ]
  },
  {
   "cell_type": "code",
   "execution_count": 29,
   "metadata": {},
   "outputs": [],
   "source": [
    "def run_experiment(list_of_m, upper_limit, N):\n",
    "    \n",
    "    list_of_bandits = [Bandit(m) for m in list_of_m]\n",
    "    list_of_selected_bandits = []\n",
    "    pulled_data = np.empty(N)\n",
    "    \n",
    "    for i in range(0, N):\n",
    "        \n",
    "        best_bandit_arg = np.argmax([ucb(bandit.mean, i, bandit.N) for bandit in list_of_bandits])\n",
    "        selected_bandit = list_of_bandits[best_bandit_arg]\n",
    "\n",
    "        #pull randomly selected bandit\n",
    "        pulled_value = selected_bandit.pull()\n",
    "\n",
    "        #update bandit mean\n",
    "        selected_bandit.update_mean(pulled_value)\n",
    "        \n",
    "        #store pulled data\n",
    "        pulled_data[i] = pulled_value\n",
    "        \n",
    "        #update list of selected bandits\n",
    "        list_of_selected_bandits.append(selected_bandit)\n",
    "\n",
    "\n",
    "        \n",
    "    cumulative_average = np.cumsum(pulled_data) / (np.arange(N) + 1)\n",
    "    \n",
    "    return list_of_selected_bandits, cumulative_average\n"
   ]
  },
  {
   "cell_type": "code",
   "execution_count": 30,
   "metadata": {},
   "outputs": [
    {
     "name": "stderr",
     "output_type": "stream",
     "text": [
      "/anaconda3/lib/python3.6/site-packages/ipykernel_launcher.py:4: RuntimeWarning: divide by zero encountered in log\n",
      "  after removing the cwd from sys.path.\n",
      "/anaconda3/lib/python3.6/site-packages/ipykernel_launcher.py:4: RuntimeWarning: invalid value encountered in sqrt\n",
      "  after removing the cwd from sys.path.\n"
     ]
    }
   ],
   "source": [
    "list_of_selected_bandits, cumulative_average = run_experiment(list_of_m, upper_limit, N)"
   ]
  },
  {
   "cell_type": "code",
   "execution_count": 31,
   "metadata": {},
   "outputs": [
    {
     "data": {
      "text/plain": [
       "[<matplotlib.lines.Line2D at 0x1a14b123c8>]"
      ]
     },
     "execution_count": 31,
     "metadata": {},
     "output_type": "execute_result"
    },
    {
     "data": {
      "image/png": "[encoded data removed]",
      "text/plain": [
       "<Figure size 432x288 with 1 Axes>"
      ]
     },
     "metadata": {},
     "output_type": "display_data"
    }
   ],
   "source": [
    "plt.plot(cumulative_average)"
   ]
  },
  {
   "cell_type": "code",
   "execution_count": 32,
   "metadata": {},
   "outputs": [],
   "source": [
    "def run_experiment_exp(list_of_m, eps, N):\n",
    "    \n",
    "    list_of_bandits = [Bandit(m) for m in list_of_m]\n",
    "    list_of_selected_bandits = []\n",
    "    pulled_data = np.empty(N)\n",
    "    \n",
    "    for i in range(0, N):\n",
    "\n",
    "        #pulling random uniform number\n",
    "        p = np.random.random()\n",
    "\n",
    "        if p < eps:\n",
    "            #select random bandit\n",
    "            selected_bandit = np.random.choice(list_of_bandits)\n",
    "        else:\n",
    "            #select current best bandit\n",
    "            best_bandit_arg = np.argmax([bandit.mean for bandit in list_of_bandits])\n",
    "            selected_bandit = list_of_bandits[best_bandit_arg]\n",
    "\n",
    "        #pull randomly selected bandit\n",
    "        pulled_value = selected_bandit.pull()\n",
    "\n",
    "        #update bandit mean\n",
    "        selected_bandit.update_mean(pulled_value)\n",
    "        \n",
    "        #store pulled data\n",
    "        pulled_data[i] = pulled_value\n",
    "        \n",
    "        #update list of selected bandits\n",
    "        list_of_selected_bandits.append(selected_bandit)\n",
    "\n",
    "        \n",
    "    cumulative_average = np.cumsum(pulled_data) / (np.arange(N) + 1)\n",
    "    \n",
    "    return list_of_selected_bandits, cumulative_average\n"
   ]
  },
  {
   "cell_type": "code",
   "execution_count": 33,
   "metadata": {},
   "outputs": [],
   "source": [
    "list_of_selected_bandits_exp, cumulative_average_exp = run_experiment_exp(list_of_m, eps, N)"
   ]
  },
  {
   "cell_type": "code",
   "execution_count": 34,
   "metadata": {},
   "outputs": [
    {
     "data": {
      "text/plain": [
       "<matplotlib.legend.Legend at 0x1a1550d978>"
      ]
     },
     "execution_count": 34,
     "metadata": {},
     "output_type": "execute_result"
    },
    {
     "data": {
      "image/png": "[encoded data removed]",
      "text/plain": [
       "<Figure size 432x288 with 1 Axes>"
      ]
     },
     "metadata": {},
     "output_type": "display_data"
    }
   ],
   "source": [
    "plt.plot(cumulative_average, label = \"ucb1\")\n",
    "plt.plot(cumulative_average_exp, label = \"eps0.1\")\n",
    "plt.legend()"
   ]
  },
  {
   "cell_type": "code",
   "execution_count": null,
   "metadata": {},
   "outputs": [],
   "source": []
  }
 ],
 "metadata": {
  "kernelspec": {
   "display_name": "Python 3",
   "language": "python",
   "name": "python3"
  },
  "language_info": {
   "codemirror_mode": {
    "name": "ipython",
    "version": 3
   },
   "file_extension": ".py",
   "mimetype": "text/x-python",
   "name": "python",
   "nbconvert_exporter": "python",
   "pygments_lexer": "ipython3",
   "version": "3.6.5"
  }
 },
 "nbformat": 4,
 "nbformat_minor": 2
}
